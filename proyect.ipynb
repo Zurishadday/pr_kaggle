{
 "cells": [
  {
   "cell_type": "code",
   "execution_count": 1,
   "metadata": {},
   "outputs": [],
   "source": [
    "import numpy as np \n",
    "import pandas as pd\n",
    "from functools import reduce\n",
    "\n",
    "import matplotlib.pyplot as plt\n",
    "import seaborn as sns\n",
    "from sklearn import preprocessing"
   ]
  },
  {
   "cell_type": "code",
   "execution_count": 2,
   "metadata": {},
   "outputs": [],
   "source": [
    "dfevent = pd.read_csv(r\"~\\Downloads\\telstra_recruiting_network\\event_type.csv\")\n",
    "dflog = pd.read_csv(r\"~\\Downloads\\telstra_recruiting_network\\log_feature.csv\")\n",
    "dfresource = pd.read_csv(r\"~\\Downloads\\telstra_recruiting_network\\resource_type.csv\")\n",
    "dfsubmission = pd.read_csv(r\"~\\Downloads\\telstra_recruiting_network\\sample_submission.csv\")\n",
    "dftest = pd.read_csv(r\"~\\Downloads\\telstra_recruiting_network\\test.csv\")\n",
    "dftrain = pd.read_csv(r\"~\\Downloads\\telstra_recruiting_network\\train.csv\")"
   ]
  },
  {
   "cell_type": "code",
   "execution_count": 3,
   "metadata": {},
   "outputs": [],
   "source": [
    "df = [dftrain,dfevent, dflog, dfresource]"
   ]
  },
  {
   "cell_type": "code",
   "execution_count": 9,
   "metadata": {},
   "outputs": [
    {
     "name": "stdout",
     "output_type": "stream",
     "text": [
      "<class 'pandas.core.frame.DataFrame'>\n",
      "RangeIndex: 7381 entries, 0 to 7380\n",
      "Data columns (total 3 columns):\n",
      "id                7381 non-null int64\n",
      "location          7381 non-null object\n",
      "fault_severity    7381 non-null int64\n",
      "dtypes: int64(2), object(1)\n",
      "memory usage: 173.1+ KB\n"
     ]
    }
   ],
   "source": [
    "dftrain.info()"
   ]
  },
  {
   "cell_type": "code",
   "execution_count": 7,
   "metadata": {},
   "outputs": [],
   "source": [
    "df1 = reduce(lambda left,right: pd.merge(left,right,on='id',how='left'), df)"
   ]
  },
  {
   "cell_type": "code",
   "execution_count": 8,
   "metadata": {},
   "outputs": [
    {
     "name": "stdout",
     "output_type": "stream",
     "text": [
      "<class 'pandas.core.frame.DataFrame'>\n",
      "Int64Index: 61839 entries, 0 to 61838\n",
      "Data columns (total 7 columns):\n",
      "id                61839 non-null int64\n",
      "location          61839 non-null object\n",
      "fault_severity    61839 non-null int64\n",
      "event_type        61839 non-null object\n",
      "log_feature       61839 non-null object\n",
      "volume            61839 non-null int64\n",
      "resource_type     61839 non-null object\n",
      "dtypes: int64(3), object(4)\n",
      "memory usage: 3.8+ MB\n"
     ]
    }
   ],
   "source": [
    "df1.info()"
   ]
  },
  {
   "cell_type": "code",
   "execution_count": 18,
   "metadata": {},
   "outputs": [],
   "source": [
    "\n",
    "dg = dfevent.groupby('id').aggregate('count').astype('category')"
   ]
  },
  {
   "cell_type": "code",
   "execution_count": 34,
   "metadata": {},
   "outputs": [
    {
     "data": {
      "text/html": [
       "<div>\n",
       "<style scoped>\n",
       "    .dataframe tbody tr th:only-of-type {\n",
       "        vertical-align: middle;\n",
       "    }\n",
       "\n",
       "    .dataframe tbody tr th {\n",
       "        vertical-align: top;\n",
       "    }\n",
       "\n",
       "    .dataframe thead th {\n",
       "        text-align: right;\n",
       "    }\n",
       "</style>\n",
       "<table border=\"1\" class=\"dataframe\">\n",
       "  <thead>\n",
       "    <tr style=\"text-align: right;\">\n",
       "      <th></th>\n",
       "      <th>id</th>\n",
       "      <th>event_type</th>\n",
       "    </tr>\n",
       "  </thead>\n",
       "  <tbody>\n",
       "    <tr>\n",
       "      <th>0</th>\n",
       "      <td>6597</td>\n",
       "      <td>event_type 11</td>\n",
       "    </tr>\n",
       "    <tr>\n",
       "      <th>1</th>\n",
       "      <td>8011</td>\n",
       "      <td>event_type 15</td>\n",
       "    </tr>\n",
       "    <tr>\n",
       "      <th>2</th>\n",
       "      <td>2597</td>\n",
       "      <td>event_type 15</td>\n",
       "    </tr>\n",
       "    <tr>\n",
       "      <th>3</th>\n",
       "      <td>5022</td>\n",
       "      <td>event_type 15</td>\n",
       "    </tr>\n",
       "    <tr>\n",
       "      <th>4</th>\n",
       "      <td>5022</td>\n",
       "      <td>event_type 11</td>\n",
       "    </tr>\n",
       "  </tbody>\n",
       "</table>\n",
       "</div>"
      ],
      "text/plain": [
       "     id     event_type\n",
       "0  6597  event_type 11\n",
       "1  8011  event_type 15\n",
       "2  2597  event_type 15\n",
       "3  5022  event_type 15\n",
       "4  5022  event_type 11"
      ]
     },
     "execution_count": 34,
     "metadata": {},
     "output_type": "execute_result"
    }
   ],
   "source": [
    "dfevent.head()"
   ]
  },
  {
   "cell_type": "code",
   "execution_count": 67,
   "metadata": {},
   "outputs": [],
   "source": [
    "df1.fault_severity = df1['fault_severity'].astype('category')\n",
    "df1.volume = df1['volume'].astype('int32')\n",
    "df1.location = df1['location'].astype('category')\n",
    "df1.event_type = df1['event_type'].astype('category')\n",
    "df1.log_feature = df1['log_feature'].astype('category')\n",
    "df1.resource_type = df1['resource_type'].astype('category')"
   ]
  },
  {
   "cell_type": "code",
   "execution_count": 68,
   "metadata": {},
   "outputs": [
    {
     "name": "stdout",
     "output_type": "stream",
     "text": [
      "<class 'pandas.core.frame.DataFrame'>\n",
      "Int64Index: 61839 entries, 0 to 61838\n",
      "Data columns (total 7 columns):\n",
      "id                61839 non-null int64\n",
      "location          61839 non-null category\n",
      "fault_severity    61839 non-null category\n",
      "event_type        61839 non-null category\n",
      "log_feature       61839 non-null category\n",
      "volume            61839 non-null int32\n",
      "resource_type     61839 non-null category\n",
      "dtypes: category(5), int32(1), int64(1)\n",
      "memory usage: 1.7 MB\n"
     ]
    }
   ],
   "source": [
    "dfevent"
   ]
  },
  {
   "cell_type": "code",
   "execution_count": 90,
   "metadata": {},
   "outputs": [
    {
     "name": "stderr",
     "output_type": "stream",
     "text": [
      "C:\\Users\\lenovo\\Anaconda3\\lib\\site-packages\\statsmodels\\nonparametric\\kde.py:487: RuntimeWarning: invalid value encountered in true_divide\n",
      "  binned = fast_linbin(X, a, b, gridsize) / (delta * nobs)\n",
      "C:\\Users\\lenovo\\Anaconda3\\lib\\site-packages\\statsmodels\\nonparametric\\kdetools.py:34: RuntimeWarning: invalid value encountered in double_scalars\n",
      "  FAC1 = 2*(np.pi*bw/RANGE)**2\n"
     ]
    },
    {
     "data": {
      "text/plain": [
       "<seaborn.axisgrid.PairGrid at 0x1cc420687c8>"
      ]
     },
     "execution_count": 90,
     "metadata": {},
     "output_type": "execute_result"
    },
    {
     "data": {
      "image/png": "[encoded data removed]",
      "text/plain": [
       "<Figure size 436x360 with 6 Axes>"
      ]
     },
     "metadata": {
      "needs_background": "light"
     },
     "output_type": "display_data"
    }
   ],
   "source": [
    "sns.pairplot(data=df1.drop(['id'],axis=1), hue=\"fault_severity\")"
   ]
  },
  {
   "cell_type": "code",
   "execution_count": 98,
   "metadata": {},
   "outputs": [
    {
     "data": {
      "text/plain": [
       "<bound method Series.unique of 0        location 118\n",
       "1        location 118\n",
       "2        location 118\n",
       "3        location 118\n",
       "4         location 91\n",
       "             ...     \n",
       "61834      location 7\n",
       "61835      location 7\n",
       "61836    location 885\n",
       "61837    location 885\n",
       "61838    location 885\n",
       "Name: location, Length: 61839, dtype: category\n",
       "Categories (929, object): [location 1, location 10, location 100, location 1000, ..., location 995, location 996, location 998, location 999]>"
      ]
     },
     "execution_count": 98,
     "metadata": {},
     "output_type": "execute_result"
    }
   ],
   "source": [
    "df1.event_type.unique \n",
    "df1.log_feature.unique  \n",
    "df1.resource_type.unique\n",
    "df1.location.unique"
   ]
  },
  {
   "cell_type": "code",
   "execution_count": 120,
   "metadata": {},
   "outputs": [],
   "source": [
    "x_category = ['location','event_type','log_feature','resource_type']\n",
    "x_numerical = ['volume']\n",
    "target = ['fault_severity']"
   ]
  },
  {
   "cell_type": "code",
   "execution_count": 132,
   "metadata": {},
   "outputs": [],
   "source": [
    "dfX = df1[x_category]"
   ]
  },
  {
   "cell_type": "code",
   "execution_count": 133,
   "metadata": {},
   "outputs": [],
   "source": [
    "le = preprocessing.LabelEncoder()\n",
    "for i in range(len(dfX.columns)):\n",
    "    dfX.iloc[:,i]=le.fit_transform(dfX.iloc[:,i])"
   ]
  },
  {
   "cell_type": "code",
   "execution_count": 137,
   "metadata": {},
   "outputs": [
    {
     "data": {
      "text/html": [
       "<div>\n",
       "<style scoped>\n",
       "    .dataframe tbody tr th:only-of-type {\n",
       "        vertical-align: middle;\n",
       "    }\n",
       "\n",
       "    .dataframe tbody tr th {\n",
       "        vertical-align: top;\n",
       "    }\n",
       "\n",
       "    .dataframe thead th {\n",
       "        text-align: right;\n",
       "    }\n",
       "</style>\n",
       "<table border=\"1\" class=\"dataframe\">\n",
       "  <thead>\n",
       "    <tr style=\"text-align: right;\">\n",
       "      <th></th>\n",
       "      <th>id</th>\n",
       "      <th>location</th>\n",
       "      <th>fault_severity</th>\n",
       "      <th>event_type</th>\n",
       "      <th>log_feature</th>\n",
       "      <th>volume</th>\n",
       "      <th>resource_type</th>\n",
       "    </tr>\n",
       "  </thead>\n",
       "  <tbody>\n",
       "    <tr>\n",
       "      <td>0</td>\n",
       "      <td>14121</td>\n",
       "      <td>location 118</td>\n",
       "      <td>1</td>\n",
       "      <td>event_type 34</td>\n",
       "      <td>feature 312</td>\n",
       "      <td>19</td>\n",
       "      <td>resource_type 2</td>\n",
       "    </tr>\n",
       "    <tr>\n",
       "      <td>1</td>\n",
       "      <td>14121</td>\n",
       "      <td>location 118</td>\n",
       "      <td>1</td>\n",
       "      <td>event_type 34</td>\n",
       "      <td>feature 232</td>\n",
       "      <td>19</td>\n",
       "      <td>resource_type 2</td>\n",
       "    </tr>\n",
       "    <tr>\n",
       "      <td>2</td>\n",
       "      <td>14121</td>\n",
       "      <td>location 118</td>\n",
       "      <td>1</td>\n",
       "      <td>event_type 35</td>\n",
       "      <td>feature 312</td>\n",
       "      <td>19</td>\n",
       "      <td>resource_type 2</td>\n",
       "    </tr>\n",
       "    <tr>\n",
       "      <td>3</td>\n",
       "      <td>14121</td>\n",
       "      <td>location 118</td>\n",
       "      <td>1</td>\n",
       "      <td>event_type 35</td>\n",
       "      <td>feature 232</td>\n",
       "      <td>19</td>\n",
       "      <td>resource_type 2</td>\n",
       "    </tr>\n",
       "    <tr>\n",
       "      <td>4</td>\n",
       "      <td>9320</td>\n",
       "      <td>location 91</td>\n",
       "      <td>0</td>\n",
       "      <td>event_type 34</td>\n",
       "      <td>feature 315</td>\n",
       "      <td>200</td>\n",
       "      <td>resource_type 2</td>\n",
       "    </tr>\n",
       "  </tbody>\n",
       "</table>\n",
       "</div>"
      ],
      "text/plain": [
       "      id      location fault_severity     event_type  log_feature  volume  \\\n",
       "0  14121  location 118              1  event_type 34  feature 312      19   \n",
       "1  14121  location 118              1  event_type 34  feature 232      19   \n",
       "2  14121  location 118              1  event_type 35  feature 312      19   \n",
       "3  14121  location 118              1  event_type 35  feature 232      19   \n",
       "4   9320   location 91              0  event_type 34  feature 315     200   \n",
       "\n",
       "     resource_type  \n",
       "0  resource_type 2  \n",
       "1  resource_type 2  \n",
       "2  resource_type 2  \n",
       "3  resource_type 2  \n",
       "4  resource_type 2  "
      ]
     },
     "execution_count": 137,
     "metadata": {},
     "output_type": "execute_result"
    }
   ],
   "source": [
    "df1.head()"
   ]
  }
 ],
 "metadata": {
  "kernelspec": {
   "display_name": "Python 3",
   "language": "python",
   "name": "python3"
  },
  "language_info": {
   "codemirror_mode": {
    "name": "ipython",
    "version": 3
   },
   "file_extension": ".py",
   "mimetype": "text/x-python",
   "name": "python",
   "nbconvert_exporter": "python",
   "pygments_lexer": "ipython3",
   "version": "3.6.5"
  }
 },
 "nbformat": 4,
 "nbformat_minor": 2
}
