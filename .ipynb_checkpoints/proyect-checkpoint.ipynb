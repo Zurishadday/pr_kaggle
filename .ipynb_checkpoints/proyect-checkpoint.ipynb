{
 "cells": [
  {
   "cell_type": "code",
   "execution_count": 1,
   "metadata": {},
   "outputs": [],
   "source": [
    "import numpy as np \n",
    "import pandas as pd\n",
    "from functools import reduce\n",
    "\n",
    "import matplotlib.pyplot as plt\n",
    "import seaborn as sns\n",
    "from sklearn import preprocessing"
   ]
  },
  {
   "cell_type": "code",
   "execution_count": 2,
   "metadata": {},
   "outputs": [],
   "source": [
    "dfevent = pd.read_csv(r\"~\\Downloads\\telstra_recruiting_network\\event_type.csv\")\n",
    "dflog = pd.read_csv(r\"~\\Downloads\\telstra_recruiting_network\\log_feature.csv\")\n",
    "dfresource = pd.read_csv(r\"~\\Downloads\\telstra_recruiting_network\\resource_type.csv\")\n",
    "dfsubmission = pd.read_csv(r\"~\\Downloads\\telstra_recruiting_network\\sample_submission.csv\")\n",
    "dftest = pd.read_csv(r\"~\\Downloads\\telstra_recruiting_network\\test.csv\")\n",
    "dftrain = pd.read_csv(r\"~\\Downloads\\telstra_recruiting_network\\train.csv\")"
   ]
  },
  {
   "cell_type": "code",
   "execution_count": 142,
   "metadata": {},
   "outputs": [],
   "source": [
    "dflog = pd.read_csv(r\"~\\Downloads\\telstra_recruiting_network\\log_feature.csv\")"
   ]
  },
  {
   "cell_type": "code",
   "execution_count": 3,
   "metadata": {},
   "outputs": [],
   "source": [
    "df = [dftrain,dfevent, dflog, dfresource]"
   ]
  },
  {
   "cell_type": "code",
   "execution_count": 4,
   "metadata": {},
   "outputs": [
    {
     "name": "stdout",
     "output_type": "stream",
     "text": [
      "<class 'pandas.core.frame.DataFrame'>\n",
      "RangeIndex: 7381 entries, 0 to 7380\n",
      "Data columns (total 3 columns):\n",
      "id                7381 non-null int64\n",
      "location          7381 non-null object\n",
      "fault_severity    7381 non-null int64\n",
      "dtypes: int64(2), object(1)\n",
      "memory usage: 173.1+ KB\n"
     ]
    }
   ],
   "source": [
    "dftrain.info()"
   ]
  },
  {
   "cell_type": "code",
   "execution_count": 5,
   "metadata": {},
   "outputs": [],
   "source": [
    "df1 = reduce(lambda left,right: pd.merge(left,right,on='id',how='left'), df)"
   ]
  },
  {
   "cell_type": "code",
   "execution_count": 6,
   "metadata": {},
   "outputs": [
    {
     "name": "stdout",
     "output_type": "stream",
     "text": [
      "<class 'pandas.core.frame.DataFrame'>\n",
      "Int64Index: 61839 entries, 0 to 61838\n",
      "Data columns (total 7 columns):\n",
      "id                61839 non-null int64\n",
      "location          61839 non-null object\n",
      "fault_severity    61839 non-null int64\n",
      "event_type        61839 non-null object\n",
      "log_feature       61839 non-null object\n",
      "volume            61839 non-null int64\n",
      "resource_type     61839 non-null object\n",
      "dtypes: int64(3), object(4)\n",
      "memory usage: 3.8+ MB\n"
     ]
    }
   ],
   "source": [
    "df1.info()"
   ]
  },
  {
   "cell_type": "markdown",
   "metadata": {},
   "source": [
    "Aquí se observa que los ids se repoten hasta 11 veces por difentes event_types."
   ]
  },
  {
   "cell_type": "code",
   "execution_count": 7,
   "metadata": {},
   "outputs": [],
   "source": [
    "dfevent.id = dfevent.id.astype('category')\n",
    "dg = dfevent.groupby('id').aggregate('count')\n",
    "dg.event_type=dg.event_type.astype('category')\n",
    "dg.reset_index(inplace=True)\n",
    "dg.groupby('event_type').aggregate('count')"
   ]
  },
  {
   "cell_type": "markdown",
   "metadata": {},
   "source": [
    "Lo que se hara acontinuación es ver que event_types son más relevantes dado su repitición. Hay que recordar que existen en la base de dfevent: 31170 registros. Y nosotros simplicidad agarraremos los event_type que más se repiten por el dilema de pareto. \n",
    "event_type: 11,35,34,15 y 20. Conforman alrededor del 84% de los datos. Por relevancia solo incluiremos esos unicamente."
   ]
  },
  {
   "cell_type": "code",
   "execution_count": 40,
   "metadata": {},
   "outputs": [
    {
     "data": {
      "text/html": [
       "<div>\n",
       "<style scoped>\n",
       "    .dataframe tbody tr th:only-of-type {\n",
       "        vertical-align: middle;\n",
       "    }\n",
       "\n",
       "    .dataframe tbody tr th {\n",
       "        vertical-align: top;\n",
       "    }\n",
       "\n",
       "    .dataframe thead th {\n",
       "        text-align: right;\n",
       "    }\n",
       "</style>\n",
       "<table border=\"1\" class=\"dataframe\">\n",
       "  <thead>\n",
       "    <tr style=\"text-align: right;\">\n",
       "      <th></th>\n",
       "      <th>id</th>\n",
       "    </tr>\n",
       "    <tr>\n",
       "      <th>event_type</th>\n",
       "      <th></th>\n",
       "    </tr>\n",
       "  </thead>\n",
       "  <tbody>\n",
       "    <tr>\n",
       "      <th>event_type 11</th>\n",
       "      <td>7888</td>\n",
       "    </tr>\n",
       "    <tr>\n",
       "      <th>event_type 35</th>\n",
       "      <td>6615</td>\n",
       "    </tr>\n",
       "    <tr>\n",
       "      <th>event_type 34</th>\n",
       "      <td>5927</td>\n",
       "    </tr>\n",
       "    <tr>\n",
       "      <th>event_type 15</th>\n",
       "      <td>4395</td>\n",
       "    </tr>\n",
       "    <tr>\n",
       "      <th>event_type 20</th>\n",
       "      <td>1458</td>\n",
       "    </tr>\n",
       "  </tbody>\n",
       "</table>\n",
       "</div>"
      ],
      "text/plain": [
       "                 id\n",
       "event_type         \n",
       "event_type 11  7888\n",
       "event_type 35  6615\n",
       "event_type 34  5927\n",
       "event_type 15  4395\n",
       "event_type 20  1458"
      ]
     },
     "execution_count": 40,
     "metadata": {},
     "output_type": "execute_result"
    }
   ],
   "source": [
    "dfevent.groupby('event_type').aggregate('count').sort_values(by=['id'],ascending=False).head()"
   ]
  },
  {
   "cell_type": "code",
   "execution_count": 60,
   "metadata": {},
   "outputs": [],
   "source": [
    "dfevent.id = dfevent.id.astype('int64')\n",
    "principal=['event_type 11','event_type 35','event_type 34','event_type 15','event_type 20']\n",
    "dfevent=dfevent.loc[dfevent.event_type.isin(principal_event),:]"
   ]
  },
  {
   "cell_type": "markdown",
   "metadata": {},
   "source": [
    "Observamos que efectivamente si un \"id\" llega a tener cinco diferentes tipos de fuentes."
   ]
  },
  {
   "cell_type": "code",
   "execution_count": 69,
   "metadata": {},
   "outputs": [
    {
     "data": {
      "text/html": [
       "<div>\n",
       "<style scoped>\n",
       "    .dataframe tbody tr th:only-of-type {\n",
       "        vertical-align: middle;\n",
       "    }\n",
       "\n",
       "    .dataframe tbody tr th {\n",
       "        vertical-align: top;\n",
       "    }\n",
       "\n",
       "    .dataframe thead th {\n",
       "        text-align: right;\n",
       "    }\n",
       "</style>\n",
       "<table border=\"1\" class=\"dataframe\">\n",
       "  <thead>\n",
       "    <tr style=\"text-align: right;\">\n",
       "      <th></th>\n",
       "      <th>id</th>\n",
       "    </tr>\n",
       "    <tr>\n",
       "      <th>resource_type</th>\n",
       "      <th></th>\n",
       "    </tr>\n",
       "  </thead>\n",
       "  <tbody>\n",
       "    <tr>\n",
       "      <th>1</th>\n",
       "      <td>16421</td>\n",
       "    </tr>\n",
       "    <tr>\n",
       "      <th>2</th>\n",
       "      <td>1814</td>\n",
       "    </tr>\n",
       "    <tr>\n",
       "      <th>3</th>\n",
       "      <td>257</td>\n",
       "    </tr>\n",
       "    <tr>\n",
       "      <th>4</th>\n",
       "      <td>44</td>\n",
       "    </tr>\n",
       "    <tr>\n",
       "      <th>5</th>\n",
       "      <td>16</td>\n",
       "    </tr>\n",
       "  </tbody>\n",
       "</table>\n",
       "</div>"
      ],
      "text/plain": [
       "                  id\n",
       "resource_type       \n",
       "1              16421\n",
       "2               1814\n",
       "3                257\n",
       "4                 44\n",
       "5                 16"
      ]
     },
     "execution_count": 69,
     "metadata": {},
     "output_type": "execute_result"
    }
   ],
   "source": [
    "dfresource.id = dfresource.id.astype('category')\n",
    "dg = dfresource.groupby('id').aggregate('count')\n",
    "dg.resource_type=dg.resource_type.astype('category')\n",
    "dg.reset_index(inplace=True)\n",
    "dg.groupby('resource_type').aggregate('count')"
   ]
  },
  {
   "cell_type": "code",
   "execution_count": 70,
   "metadata": {},
   "outputs": [
    {
     "data": {
      "text/html": [
       "<div>\n",
       "<style scoped>\n",
       "    .dataframe tbody tr th:only-of-type {\n",
       "        vertical-align: middle;\n",
       "    }\n",
       "\n",
       "    .dataframe tbody tr th {\n",
       "        vertical-align: top;\n",
       "    }\n",
       "\n",
       "    .dataframe thead th {\n",
       "        text-align: right;\n",
       "    }\n",
       "</style>\n",
       "<table border=\"1\" class=\"dataframe\">\n",
       "  <thead>\n",
       "    <tr style=\"text-align: right;\">\n",
       "      <th></th>\n",
       "      <th>id</th>\n",
       "    </tr>\n",
       "    <tr>\n",
       "      <th>resource_type</th>\n",
       "      <th></th>\n",
       "    </tr>\n",
       "  </thead>\n",
       "  <tbody>\n",
       "    <tr>\n",
       "      <th>resource_type 8</th>\n",
       "      <td>10268</td>\n",
       "    </tr>\n",
       "    <tr>\n",
       "      <th>resource_type 2</th>\n",
       "      <td>8918</td>\n",
       "    </tr>\n",
       "    <tr>\n",
       "      <th>resource_type 6</th>\n",
       "      <td>582</td>\n",
       "    </tr>\n",
       "    <tr>\n",
       "      <th>resource_type 7</th>\n",
       "      <td>498</td>\n",
       "    </tr>\n",
       "    <tr>\n",
       "      <th>resource_type 4</th>\n",
       "      <td>330</td>\n",
       "    </tr>\n",
       "  </tbody>\n",
       "</table>\n",
       "</div>"
      ],
      "text/plain": [
       "                    id\n",
       "resource_type         \n",
       "resource_type 8  10268\n",
       "resource_type 2   8918\n",
       "resource_type 6    582\n",
       "resource_type 7    498\n",
       "resource_type 4    330"
      ]
     },
     "execution_count": 70,
     "metadata": {},
     "output_type": "execute_result"
    }
   ],
   "source": [
    "dfresource.groupby('resource_type').aggregate('count').sort_values(by=['id'],ascending=False).head()"
   ]
  },
  {
   "cell_type": "code",
   "execution_count": 71,
   "metadata": {},
   "outputs": [],
   "source": [
    "dfresource.id = dfresource.id.astype('int64')\n",
    "principal=['resource_type 8','resource_type 2']\n",
    "dfresource=dfresource.loc[dfresource.resource_type.isin(principal),:]"
   ]
  },
  {
   "cell_type": "code",
   "execution_count": 75,
   "metadata": {},
   "outputs": [
    {
     "name": "stdout",
     "output_type": "stream",
     "text": [
      "<class 'pandas.core.frame.DataFrame'>\n",
      "RangeIndex: 58671 entries, 0 to 58670\n",
      "Data columns (total 3 columns):\n",
      "id             58671 non-null int64\n",
      "log_feature    58671 non-null object\n",
      "volume         58671 non-null int64\n",
      "dtypes: int64(2), object(1)\n",
      "memory usage: 1.3+ MB\n"
     ]
    }
   ],
   "source": [
    "dflog.info()"
   ]
  },
  {
   "cell_type": "code",
   "execution_count": 157,
   "metadata": {},
   "outputs": [
    {
     "data": {
      "text/plain": [
       "log_feature  volume\n",
       "feature 134  1         1225\n",
       "             2          128\n",
       "             3           23\n",
       "             4           11\n",
       "             5            4\n",
       "dtype: int64"
      ]
     },
     "execution_count": 157,
     "metadata": {},
     "output_type": "execute_result"
    }
   ],
   "source": [
    "dflog.groupby(['log_feature', 'volume']).size().head()"
   ]
  },
  {
   "cell_type": "markdown",
   "metadata": {},
   "source": [
    "Averiguaremos si el volumen corresponde a un valor unico de log_feature"
   ]
  },
  {
   "cell_type": "markdown",
   "metadata": {},
   "source": [
    "58671*0.8=46936.8"
   ]
  },
  {
   "cell_type": "code",
   "execution_count": 131,
   "metadata": {},
   "outputs": [
    {
     "data": {
      "text/plain": [
       "feature 312    5267\n",
       "feature 232    4754\n",
       "feature 82     3472\n",
       "feature 203    2823\n",
       "feature 313    2145\n",
       "Name: log_feature, dtype: int64"
      ]
     },
     "execution_count": 131,
     "metadata": {},
     "output_type": "execute_result"
    }
   ],
   "source": [
    "dflog.log_feature.value_counts().head()"
   ]
  },
  {
   "cell_type": "code",
   "execution_count": 168,
   "metadata": {},
   "outputs": [
    {
     "data": {
      "text/plain": [
       "1    11244\n",
       "2     5575\n",
       "3     2815\n",
       "4     2380\n",
       "6     1536\n",
       "Name: volume, dtype: int64"
      ]
     },
     "execution_count": 168,
     "metadata": {},
     "output_type": "execute_result"
    }
   ],
   "source": [
    "#dflog.loc[(dflog.log_feature=='feature 313'),:].groupby(['log_feature', 'volume']).size()\n",
    "dflog.volume.value_counts().head() #Nos quedaremos hasta el valor 5"
   ]
  },
  {
   "cell_type": "code",
   "execution_count": 144,
   "metadata": {},
   "outputs": [],
   "source": [
    "dflog.id = dflog.id.astype('int64')\n",
    "principal=['feature 312','feature 232','feature 82','feature 203','feature 313','feature 233','feature 307','feature 54'\n",
    "          ,'feature 170','feature 71','feature 315','feature 134','feature 80','feature 235','feature 193','feature 219','feature 68']\n",
    "dflog=dflog.loc[dflog.log_feature.isin(principal),:]\n",
    "dflog=dflog.loc[dflog.volume<7,:]"
   ]
  },
  {
   "cell_type": "code",
   "execution_count": 172,
   "metadata": {},
   "outputs": [
    {
     "name": "stdout",
     "output_type": "stream",
     "text": [
      "<class 'pandas.core.frame.DataFrame'>\n",
      "Int64Index: 25070 entries, 0 to 58667\n",
      "Data columns (total 3 columns):\n",
      "id             25070 non-null int64\n",
      "log_feature    25070 non-null object\n",
      "volume         25070 non-null int64\n",
      "dtypes: int64(2), object(1)\n",
      "memory usage: 783.4+ KB\n"
     ]
    }
   ],
   "source": []
  },
  {
   "cell_type": "code",
   "execution_count": null,
   "metadata": {},
   "outputs": [],
   "source": [
    "df1.fault_severity = df1['fault_severity'].astype('category')\n",
    "df1.volume = df1['volume'].astype('int32')\n",
    "df1.location = df1['location'].astype('category')\n",
    "df1.event_type = df1['event_type'].astype('category')\n",
    "df1.log_feature = df1['log_feature'].astype('category')\n",
    "df1.resource_type = df1['resource_type'].astype('category')"
   ]
  },
  {
   "cell_type": "code",
   "execution_count": null,
   "metadata": {},
   "outputs": [],
   "source": [
    "sns.pairplot(data=df1.drop(['id'],axis=1), hue=\"fault_severity\")"
   ]
  },
  {
   "cell_type": "code",
   "execution_count": null,
   "metadata": {},
   "outputs": [],
   "source": [
    "df1.event_type.unique \n",
    "df1.log_feature.unique  \n",
    "df1.resource_type.unique\n",
    "df1.location.unique"
   ]
  },
  {
   "cell_type": "code",
   "execution_count": null,
   "metadata": {},
   "outputs": [],
   "source": [
    "x_category = ['location','event_type','log_feature','resource_type']\n",
    "x_numerical = ['volume']\n",
    "target = ['fault_severity']"
   ]
  },
  {
   "cell_type": "code",
   "execution_count": null,
   "metadata": {},
   "outputs": [],
   "source": [
    "dfX = df1[x_category]"
   ]
  },
  {
   "cell_type": "code",
   "execution_count": null,
   "metadata": {},
   "outputs": [],
   "source": [
    "le = preprocessing.LabelEncoder()\n",
    "for i in range(len(dfX.columns)):\n",
    "    dfX.iloc[:,i]=le.fit_transform(dfX.iloc[:,i])"
   ]
  },
  {
   "cell_type": "code",
   "execution_count": null,
   "metadata": {},
   "outputs": [],
   "source": [
    "df1.head()"
   ]
  }
 ],
 "metadata": {
  "kernelspec": {
   "display_name": "Python 3",
   "language": "python",
   "name": "python3"
  },
  "language_info": {
   "codemirror_mode": {
    "name": "ipython",
    "version": 3
   },
   "file_extension": ".py",
   "mimetype": "text/x-python",
   "name": "python",
   "nbconvert_exporter": "python",
   "pygments_lexer": "ipython3",
   "version": "3.6.5"
  }
 },
 "nbformat": 4,
 "nbformat_minor": 2
}
