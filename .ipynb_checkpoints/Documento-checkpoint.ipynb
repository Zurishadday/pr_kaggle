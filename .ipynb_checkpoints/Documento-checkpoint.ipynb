{
 "cells": [
  {
   "cell_type": "markdown",
   "metadata": {},
   "source": [
    "# Telstra Network Disruptions´ Project"
   ]
  },
  {
   "cell_type": "markdown",
   "metadata": {},
   "source": [
    "## Business Understanding"
   ]
  },
  {
   "cell_type": "markdown",
   "metadata": {},
   "source": [
    "Telstra es una empresa de telecomunicaciones más grande de Australia\n",
    "\n",
    "Objetivo: Telstra desea predecir la gravedad de las interrupciones en su red con un conjunto de datos (propocionados en kaggle). Su fin ultimo es mejorar la experiencia del cliente prediciendo con anticipación las futuras interrupciones en ubicaciones especificas."
   ]
  }
 ],
 "metadata": {
  "kernelspec": {
   "display_name": "Python 3",
   "language": "python",
   "name": "python3"
  },
  "language_info": {
   "codemirror_mode": {
    "name": "ipython",
    "version": 3
   },
   "file_extension": ".py",
   "mimetype": "text/x-python",
   "name": "python",
   "nbconvert_exporter": "python",
   "pygments_lexer": "ipython3",
   "version": "3.7.4"
  }
 },
 "nbformat": 4,
 "nbformat_minor": 2
}
